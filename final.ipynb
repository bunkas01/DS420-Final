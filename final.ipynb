{
 "cells": [
  {
   "cell_type": "markdown",
   "metadata": {},
   "source": [
    "## Predicting Final Round Team Compositions in Rainbow 6: Siege\n",
    "\n",
    "#### Description of the dataset\n",
    "The data used is an official datadump from Ubisoft, the developers of the game. This data was released after the fifth competitive season of gameplay (In keeping with the games' story as a counter-terrorism first-person shooter, the seasons have operation names. This particular one was named \"Operation Velvet Shell\"). For the project, the full datadump, featuring a detailed round-by-round breakdown of matches, was used. Each round is detailed from the perspective of each involved player, and includes details on the operator used, the exact loadout of the operator in that round, general measures of the player's skill, and specific match performance statistics, such as the number of kills, and whether they were killed in the round.\n",
    "\n",
    "The data will be aggregated and reshaped in order to combine all per-player entries into a single entry per round, detailing the choices and statistics of all involved players. These per-round entries will be further aggregated into per game entries, detailing the choices and statistics of all involved players, in all rounds of that game. This aggregated form will the final data used for training and predictions.\n",
    "\n",
    "#### Description of the project\n",
    "Using the aggregated data described above, a Generative Adversarial Network (GAN) will be trained to predict the team compositions of the Blue and Orange teams in the final round of a match. Since there are a large number of factors affecting a player's choice of operator in the game, such as personal preference, player skill with specific ops, the choices of other team members, and counterpicks to opponent's favourites, GANs are perfect for this role.\n",
    "\n",
    "#### Description of GANs\n",
    "TODO, also cite one of the neat articles on the subject to impress Dr. Miller more when the network inevitably fails to work properly."
   ]
  },
  {
   "cell_type": "code",
   "execution_count": 1,
   "metadata": {},
   "outputs": [],
   "source": [
    "import pandas as pd\n",
    "import dask.dataframe as dd\n",
    "import numpy as np\n",
    "\n",
    "import matplotlib.pyplot as plt"
   ]
  },
  {
   "cell_type": "code",
   "execution_count": null,
   "metadata": {},
   "outputs": [],
   "source": []
  }
 ],
 "metadata": {
  "kernelspec": {
   "display_name": "Python 3",
   "language": "python",
   "name": "python3"
  },
  "language_info": {
   "codemirror_mode": {
    "name": "ipython",
    "version": 3
   },
   "file_extension": ".py",
   "mimetype": "text/x-python",
   "name": "python",
   "nbconvert_exporter": "python",
   "pygments_lexer": "ipython3",
   "version": "3.5.1"
  }
 },
 "nbformat": 4,
 "nbformat_minor": 2
}
